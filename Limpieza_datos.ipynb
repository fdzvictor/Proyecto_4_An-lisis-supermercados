{
 "cells": [
  {
   "cell_type": "code",
   "execution_count": 15,
   "metadata": {},
   "outputs": [],
   "source": [
    "import numpy as np\n",
    "import pandas as pd\n",
    "import sys\n",
    "from src import soporte"
   ]
  },
  {
   "cell_type": "code",
   "execution_count": 16,
   "metadata": {},
   "outputs": [],
   "source": [
    "#Comenzamos cambiando nombres a las columnas. Usamos el nombre de producto a modo de id, para que luego sea más fácil identificarlo\n",
    "df_grande = pd.read_csv(\"CSVs/Productos_supermercados.csv\",index_col = \"Nombre_producto\")\n",
    "df_grande.rename(columns = {\"0\":\"Precio\"},inplace= True)\n",
    "df_grande.rename(columns = {\"Unnamed: 0\":\"Fecha\"}, inplace = True)"
   ]
  },
  {
   "cell_type": "code",
   "execution_count": 17,
   "metadata": {},
   "outputs": [],
   "source": [
    "#Adecuamos el tipo de dato para de \"Precio\" poder trabajar con él y visualizarlos\n",
    "df_grande[\"Precio\"] = df_grande[\"Precio\"].astype(\"string\")\n",
    "df_grande[\"Precio\"] = df_grande[\"Precio\"].str.replace(\",\",\".\").astype(\"float\")"
   ]
  },
  {
   "cell_type": "code",
   "execution_count": 18,
   "metadata": {},
   "outputs": [],
   "source": [
    "#Hacemos lo mismo con \"Variación\", pues python permite \"floats\" negativos :\n",
    "df_grande[\"Variación\"] = df_grande[\"Variación\"].astype(\"string\")\n",
    "df_grande[\"Variación\"] = df_grande[\"Variación\"].str.replace(\",\",\".\").astype(\"float\")"
   ]
  },
  {
   "cell_type": "code",
   "execution_count": 19,
   "metadata": {},
   "outputs": [
    {
     "data": {
      "text/plain": [
       "Fecha                    object\n",
       "Precio                  float64\n",
       "Supermercado             object\n",
       "Categoría                object\n",
       "Variación               float64\n",
       "Variación_porcentual     object\n",
       "dtype: object"
      ]
     },
     "execution_count": 19,
     "metadata": {},
     "output_type": "execute_result"
    }
   ],
   "source": [
    "#Confirmamos que efectivamente los tipos han cambiado:\n",
    "df_grande.dtypes"
   ]
  },
  {
   "cell_type": "code",
   "execution_count": 20,
   "metadata": {},
   "outputs": [],
   "source": [
    "#Lo pasamos a csv\n",
    "df_grande.to_csv('Supermercados_limpio.csv', encoding = \"utf-8\")"
   ]
  },
  {
   "cell_type": "markdown",
   "metadata": {},
   "source": [
    "Next steps: limpiar columna Variación_porcentual y elementos que no corresponden a la categoría"
   ]
  }
 ],
 "metadata": {
  "kernelspec": {
   "display_name": "Python 3",
   "language": "python",
   "name": "python3"
  },
  "language_info": {
   "codemirror_mode": {
    "name": "ipython",
    "version": 3
   },
   "file_extension": ".py",
   "mimetype": "text/x-python",
   "name": "python",
   "nbconvert_exporter": "python",
   "pygments_lexer": "ipython3",
   "version": "3.11.10"
  }
 },
 "nbformat": 4,
 "nbformat_minor": 2
}
