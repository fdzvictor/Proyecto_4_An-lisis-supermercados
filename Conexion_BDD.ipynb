{
 "cells": [
  {
   "cell_type": "code",
   "execution_count": 5,
   "metadata": {},
   "outputs": [
    {
     "name": "stdout",
     "output_type": "stream",
     "text": [
      "Requirement already satisfied: psycopg2==2.9.9 in c:\\users\\víctor\\desktop\\.conda\\lib\\site-packages (2.9.9)\n",
      "Requirement already satisfied: psycopg2-binary==2.9.9 in c:\\users\\víctor\\desktop\\.conda\\lib\\site-packages (2.9.9)\n"
     ]
    }
   ],
   "source": [
    "# importamos las librerías con las que vamos a trabajar\n",
    "!pip install psycopg2==2.9.9\n",
    "!pip install psycopg2-binary==2.9.9\n",
    "# Trabajar con bases de datos y python\n",
    "# -----------------------------------------------------------------------\n",
    "import psycopg2\n",
    "from psycopg2 import OperationalError, errorcodes, errors\n",
    "\n",
    "\n",
    "# Trabajar con DataFrames\n",
    "# -----------------------------------------------------------------------\n",
    "import pandas as pd\n",
    "pd.options.display.max_columns = None"
   ]
  },
  {
   "cell_type": "code",
   "execution_count": 26,
   "metadata": {},
   "outputs": [],
   "source": [
    "df = pd.read_csv(\"CSVs/Supermercados_limpio.csv\", index_col = 0)\n"
   ]
  },
  {
   "cell_type": "code",
   "execution_count": 8,
   "metadata": {},
   "outputs": [],
   "source": [
    "#Nos conectamos a postgres\n",
    "try:\n",
    "    conexion = psycopg2.connect(\n",
    "        database = \"proyecto4\",\n",
    "        user = \"postgres\",\n",
    "        password = \"admin\",\n",
    "        host = \"localhost\",\n",
    "        port = \"5432\"\n",
    "\n",
    ")\n",
    "except OperationalError:\n",
    "    print(\"la contraseña es errónea\")"
   ]
  },
  {
   "cell_type": "code",
   "execution_count": 10,
   "metadata": {},
   "outputs": [],
   "source": [
    "cursor = conexion.cursor()"
   ]
  },
  {
   "cell_type": "code",
   "execution_count": 27,
   "metadata": {},
   "outputs": [],
   "source": [
    "query_productos = \"\"\"\n",
    "    CREATE TABLE IF NOT EXISTS productos (\n",
    "        id SERIAL PRIMARY KEY,\n",
    "        nombre VARCHAR(255) NOT NULL,\n",
    "        categoria VARCHAR(100) NOT NULL\n",
    "    );\n",
    "\"\"\"\n",
    "\n",
    "query_supermercados = \"\"\"\n",
    "    CREATE TABLE IF NOT EXISTS supermercados (\n",
    "        id SERIAL PRIMARY KEY,\n",
    "        nombre VARCHAR(100) NOT NULL UNIQUE\n",
    "    );\n",
    "\"\"\"\n",
    "\n",
    "query_precios = \"\"\"\n",
    "    CREATE TABLE IF NOT EXISTS precios (\n",
    "        id SERIAL PRIMARY KEY,\n",
    "        producto_id INT REFERENCES productos(id),\n",
    "        supermercado_id INT REFERENCES supermercados(id),\n",
    "        fecha DATE NOT NULL,\n",
    "        precio DECIMAL(10, 2) NOT NULL,\n",
    "        variacion DECIMAL(10, 2),\n",
    "        variacion_porcentual DECIMAL(5, 2),\n",
    "        CONSTRAINT unique_price_entry UNIQUE (producto_id, supermercado_id, fecha)\n",
    "    );\n",
    "\"\"\""
   ]
  },
  {
   "cell_type": "code",
   "execution_count": null,
   "metadata": {},
   "outputs": [],
   "source": [
    "productos = df[['Nombre_producto', 'Categoría']].drop_duplicates()\n",
    "for _, row in productos.iterrows():\n",
    "    cursor.execute(\"\"\"\n",
    "        INSERT INTO productos (nombre, categoria)\n",
    "        VALUES (%s, %s)\n",
    "        ON CONFLICT (nombre) DO NOTHING;\n",
    "    \"\"\", (row['Nombre_producto'], row['Categoría']))\n",
    "conn.commit()\n",
    "\n",
    "supermercados = df['Supermercado'].drop_duplicates()\n",
    "for supermercado in supermercados:\n",
    "    cursor.execute(\"\"\"\n",
    "        INSERT INTO supermercados (nombre)\n",
    "        VALUES (%s)\n",
    "        ON CONFLICT (nombre) DO NOTHING;\n",
    "    \"\"\", (supermercado,))\n",
    "conn.commit()\n",
    "\n",
    "# Insertar precios\n",
    "for _, row in df.iterrows():\n",
    "    # Obtener los IDs de producto y supermercado\n",
    "    cursor.execute(\"SELECT id FROM productos WHERE nombre = %s;\", (row['Nombre_producto'],))\n",
    "    producto_id = cursor.fetchone()[0]\n",
    "\n",
    "    cursor.execute(\"SELECT id FROM supermercados WHERE nombre = %s;\", (row['Supermercado'],))\n",
    "    supermercado_id = cursor.fetchone()[0]\n",
    "\n",
    "    # Insertar el precio\n",
    "    cursor.execute(\"\"\"\n",
    "        INSERT INTO precios (producto_id, supermercado_id, fecha, precio, variacion, variacion_porcentual)\n",
    "        VALUES (%s, %s, %s, %s, %s, %s)\n",
    "        ON CONFLICT (producto_id, supermercado_id, fecha) DO NOTHING;\n",
    "    \"\"\", (producto_id, supermercado_id, row['Fecha'], row['Precio'], row['Variación'], row['Variación_porcentual']))\n",
    "conn.commit()\n",
    "\n",
    "# Cerrar la conexión\n",
    "cursor.close()\n",
    "conn.close()"
   ]
  }
 ],
 "metadata": {
  "kernelspec": {
   "display_name": "Python 3",
   "language": "python",
   "name": "python3"
  },
  "language_info": {
   "codemirror_mode": {
    "name": "ipython",
    "version": 3
   },
   "file_extension": ".py",
   "mimetype": "text/x-python",
   "name": "python",
   "nbconvert_exporter": "python",
   "pygments_lexer": "ipython3",
   "version": "3.11.10"
  }
 },
 "nbformat": 4,
 "nbformat_minor": 2
}
